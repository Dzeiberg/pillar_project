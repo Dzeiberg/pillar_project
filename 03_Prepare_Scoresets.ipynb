{
 "cells": [
  {
   "cell_type": "code",
   "execution_count": 1,
   "metadata": {},
   "outputs": [
    {
     "name": "stderr",
     "output_type": "stream",
     "text": [
      "/tmp/ipykernel_3141050/2386628013.py:6: TqdmExperimentalWarning: Using `tqdm.autonotebook.tqdm` in notebook mode. Use `tqdm.tqdm` instead to force console mode (e.g. in jupyter console)\n",
      "  from tqdm.autonotebook import tqdm\n"
     ]
    }
   ],
   "source": [
    "from pathlib import Path\n",
    "import matplotlib.pyplot as plt\n",
    "import numpy as np\n",
    "import pandas as pd\n",
    "import seaborn as sns\n",
    "from tqdm.autonotebook import tqdm\n",
    "\n",
    "pd.set_option('display.max_rows', 100)\n",
    "pd.set_option('display.max_columns', None)"
   ]
  },
  {
   "cell_type": "code",
   "execution_count": 2,
   "metadata": {},
   "outputs": [
    {
     "name": "stderr",
     "output_type": "stream",
     "text": [
      "/tmp/ipykernel_3141050/807609826.py:1: DtypeWarning: Columns (4,11,13,14,15,21,22,23,34,37,38,39,40,43) have mixed types. Specify dtype option on import or set low_memory=False.\n",
      "  pillar_df = pd.read_csv(\"/data/dzeiberg/pillar_project/dataframe/pillar_data_clinvar38_annotated_final_v13_expanded_031425.csv\")\n"
     ]
    }
   ],
   "source": [
    "pillar_df = pd.read_csv(\"/data/dzeiberg/pillar_project/dataframe/pillar_data_clinvar38_annotated_final_v13_expanded_031425.csv\")"
   ]
  },
  {
   "cell_type": "code",
   "execution_count": 3,
   "metadata": {},
   "outputs": [
    {
     "data": {
      "text/plain": [
       "simplified_consequence\n",
       "Missense         864698\n",
       "Synonymous        75764\n",
       "Splice Region     49418\n",
       "Nonsense          35457\n",
       "Intronic          11252\n",
       "Unknown            9033\n",
       "Frameshift         2908\n",
       "Inframe            1825\n",
       "5' UTR             1316\n",
       "3' UTR              813\n",
       "Start lost          652\n",
       "Stop lost           409\n",
       "Other               169\n",
       "Name: count, dtype: int64"
      ]
     },
     "execution_count": 3,
     "metadata": {},
     "output_type": "execute_result"
    }
   ],
   "source": [
    "pillar_df.simplified_consequence.value_counts()"
   ]
  },
  {
   "cell_type": "code",
   "execution_count": 4,
   "metadata": {},
   "outputs": [],
   "source": [
    "consequence_sets = [\n",
    "    {'Missense', \"Synonymous\"},\n",
    "    set(pillar_df.simplified_consequence.unique()),\n",
    "    {\"Start loss\", 'Nonsense', 'Synonymous', 'Missense', 'Frameshift', 'Inframe', 'Stop Loss'}\n",
    "]\n",
    "pillar_subsets = [pillar_df[pillar_df.simplified_consequence.isin(consequences)] for consequences in consequence_sets]"
   ]
  },
  {
   "cell_type": "code",
   "execution_count": 21,
   "metadata": {},
   "outputs": [
    {
     "data": {
      "text/plain": [
       "[{'Missense', 'Synonymous'},\n",
       " {\"3' UTR\",\n",
       "  \"5' UTR\",\n",
       "  'Frameshift',\n",
       "  'Inframe',\n",
       "  'Intronic',\n",
       "  'Missense',\n",
       "  'Nonsense',\n",
       "  'Other',\n",
       "  'Splice Region',\n",
       "  'Start lost',\n",
       "  'Stop lost',\n",
       "  'Synonymous',\n",
       "  'Unknown'},\n",
       " {'Frameshift',\n",
       "  'Inframe',\n",
       "  'Missense',\n",
       "  'Nonsense',\n",
       "  'Start loss',\n",
       "  'Stop Loss',\n",
       "  'Synonymous'}]"
      ]
     },
     "execution_count": 21,
     "metadata": {},
     "output_type": "execute_result"
    }
   ],
   "source": [
    "consequence_sets"
   ]
  },
  {
   "cell_type": "code",
   "execution_count": 5,
   "metadata": {},
   "outputs": [],
   "source": [
    "from pillar_project.data_utils.dataset import Scoreset"
   ]
  },
  {
   "cell_type": "code",
   "execution_count": 34,
   "metadata": {},
   "outputs": [
    {
     "data": {
      "application/vnd.jupyter.widget-view+json": {
       "model_id": "3a4ced259c61446085214ce5bf5b1dab",
       "version_major": 2,
       "version_minor": 0
      },
      "text/plain": [
       "  0%|          | 0/3 [00:00<?, ?it/s]"
      ]
     },
     "metadata": {},
     "output_type": "display_data"
    },
    {
     "data": {
      "application/vnd.jupyter.widget-view+json": {
       "model_id": "6dcec163b14840a2951c3aae6c4b0658",
       "version_major": 2,
       "version_minor": 0
      },
      "text/plain": [
       "  0%|          | 0/86 [00:00<?, ?it/s]"
      ]
     },
     "metadata": {},
     "output_type": "display_data"
    },
    {
     "data": {
      "application/vnd.jupyter.widget-view+json": {
       "model_id": "aef493499f4a4ce78b01fc00dae0232a",
       "version_major": 2,
       "version_minor": 0
      },
      "text/plain": [
       "  0%|          | 0/86 [00:00<?, ?it/s]"
      ]
     },
     "metadata": {},
     "output_type": "display_data"
    },
    {
     "data": {
      "application/vnd.jupyter.widget-view+json": {
       "model_id": "17ae300504664526ae5a09e95d9a3a5b",
       "version_major": 2,
       "version_minor": 0
      },
      "text/plain": [
       "  0%|          | 0/86 [00:00<?, ?it/s]"
      ]
     },
     "metadata": {},
     "output_type": "display_data"
    }
   ],
   "source": [
    "scoresets = []\n",
    "dataset_names = pillar_df[\"Dataset\"].unique()\n",
    "for pillar_subset in tqdm(pillar_subsets):\n",
    "    subset_scoresets = []\n",
    "    with tqdm(dataset_names) as pbar:\n",
    "        for ds_name in pbar:\n",
    "            pbar.set_description(ds_name)\n",
    "            ss = pillar_subset[pillar_subset[\"Dataset\"] == ds_name]\n",
    "            subset_scoresets.append(Scoreset(ss, quantile_min=0.0, quantile_max=1.0))\n",
    "    scoresets.append(subset_scoresets)"
   ]
  },
  {
   "cell_type": "code",
   "execution_count": 35,
   "metadata": {},
   "outputs": [
    {
     "name": "stderr",
     "output_type": "stream",
     "text": [
      "/tmp/ipykernel_3141050/1014025806.py:4: FutureWarning: DataFrame.applymap has been deprecated. Use DataFrame.map instead.\n",
      "  for ss in scoreset_subsets} ).T.fillna(0).applymap(int).sort_index(level=0)\n"
     ]
    }
   ],
   "source": [
    "counts = pd.DataFrame({(ss.variants[0].Dataset,setID): \\\n",
    "                       {sample_name : int(sample_count) for sample_name,sample_count in zip(ss.sample_names, ss.sample_counts)} \\\n",
    "                        for setID, scoreset_subsets in zip([\"Set 1\", \"Set 2\", \"Set 3\"],scoresets) \\\n",
    "                            for ss in scoreset_subsets} ).T.fillna(0).applymap(int).sort_index(level=0)"
   ]
  },
  {
   "cell_type": "code",
   "execution_count": 36,
   "metadata": {},
   "outputs": [
    {
     "data": {
      "text/html": [
       "<div>\n",
       "<style scoped>\n",
       "    .dataframe tbody tr th:only-of-type {\n",
       "        vertical-align: middle;\n",
       "    }\n",
       "\n",
       "    .dataframe tbody tr th {\n",
       "        vertical-align: top;\n",
       "    }\n",
       "\n",
       "    .dataframe thead th {\n",
       "        text-align: right;\n",
       "    }\n",
       "</style>\n",
       "<table border=\"1\" class=\"dataframe\">\n",
       "  <thead>\n",
       "    <tr style=\"text-align: right;\">\n",
       "      <th></th>\n",
       "      <th></th>\n",
       "      <th>Pathogenic/Likely Pathogenic</th>\n",
       "      <th>Benign/Likely Benign</th>\n",
       "      <th>gnomAD</th>\n",
       "      <th>Synonymous</th>\n",
       "    </tr>\n",
       "  </thead>\n",
       "  <tbody>\n",
       "    <tr>\n",
       "      <th rowspan=\"3\" valign=\"top\">ASPA_Grønbæk-Thygesen_2024_abundance</th>\n",
       "      <th>Set 1</th>\n",
       "      <td>48</td>\n",
       "      <td>6</td>\n",
       "      <td>338</td>\n",
       "      <td>0</td>\n",
       "    </tr>\n",
       "    <tr>\n",
       "      <th>Set 2</th>\n",
       "      <td>65</td>\n",
       "      <td>6</td>\n",
       "      <td>352</td>\n",
       "      <td>0</td>\n",
       "    </tr>\n",
       "    <tr>\n",
       "      <th>Set 3</th>\n",
       "      <td>65</td>\n",
       "      <td>6</td>\n",
       "      <td>352</td>\n",
       "      <td>0</td>\n",
       "    </tr>\n",
       "    <tr>\n",
       "      <th rowspan=\"2\" valign=\"top\">ASPA_Grønbæk-Thygesen_2024_toxicity</th>\n",
       "      <th>Set 1</th>\n",
       "      <td>48</td>\n",
       "      <td>6</td>\n",
       "      <td>338</td>\n",
       "      <td>0</td>\n",
       "    </tr>\n",
       "    <tr>\n",
       "      <th>Set 2</th>\n",
       "      <td>65</td>\n",
       "      <td>6</td>\n",
       "      <td>352</td>\n",
       "      <td>0</td>\n",
       "    </tr>\n",
       "    <tr>\n",
       "      <th>...</th>\n",
       "      <th>...</th>\n",
       "      <td>...</td>\n",
       "      <td>...</td>\n",
       "      <td>...</td>\n",
       "      <td>...</td>\n",
       "    </tr>\n",
       "    <tr>\n",
       "      <th rowspan=\"2\" valign=\"top\">VHL_Buckley_2024</th>\n",
       "      <th>Set 2</th>\n",
       "      <td>198</td>\n",
       "      <td>56</td>\n",
       "      <td>344</td>\n",
       "      <td>375</td>\n",
       "    </tr>\n",
       "    <tr>\n",
       "      <th>Set 3</th>\n",
       "      <td>169</td>\n",
       "      <td>4</td>\n",
       "      <td>269</td>\n",
       "      <td>375</td>\n",
       "    </tr>\n",
       "    <tr>\n",
       "      <th rowspan=\"3\" valign=\"top\">XRCC2_unpublished</th>\n",
       "      <th>Set 1</th>\n",
       "      <td>0</td>\n",
       "      <td>1</td>\n",
       "      <td>54</td>\n",
       "      <td>64</td>\n",
       "    </tr>\n",
       "    <tr>\n",
       "      <th>Set 2</th>\n",
       "      <td>2</td>\n",
       "      <td>31</td>\n",
       "      <td>227</td>\n",
       "      <td>64</td>\n",
       "    </tr>\n",
       "    <tr>\n",
       "      <th>Set 3</th>\n",
       "      <td>0</td>\n",
       "      <td>1</td>\n",
       "      <td>57</td>\n",
       "      <td>64</td>\n",
       "    </tr>\n",
       "  </tbody>\n",
       "</table>\n",
       "<p>258 rows × 4 columns</p>\n",
       "</div>"
      ],
      "text/plain": [
       "                                            Pathogenic/Likely Pathogenic  \\\n",
       "ASPA_Grønbæk-Thygesen_2024_abundance Set 1                            48   \n",
       "                                     Set 2                            65   \n",
       "                                     Set 3                            65   \n",
       "ASPA_Grønbæk-Thygesen_2024_toxicity  Set 1                            48   \n",
       "                                     Set 2                            65   \n",
       "...                                                                  ...   \n",
       "VHL_Buckley_2024                     Set 2                           198   \n",
       "                                     Set 3                           169   \n",
       "XRCC2_unpublished                    Set 1                             0   \n",
       "                                     Set 2                             2   \n",
       "                                     Set 3                             0   \n",
       "\n",
       "                                            Benign/Likely Benign  gnomAD  \\\n",
       "ASPA_Grønbæk-Thygesen_2024_abundance Set 1                     6     338   \n",
       "                                     Set 2                     6     352   \n",
       "                                     Set 3                     6     352   \n",
       "ASPA_Grønbæk-Thygesen_2024_toxicity  Set 1                     6     338   \n",
       "                                     Set 2                     6     352   \n",
       "...                                                          ...     ...   \n",
       "VHL_Buckley_2024                     Set 2                    56     344   \n",
       "                                     Set 3                     4     269   \n",
       "XRCC2_unpublished                    Set 1                     1      54   \n",
       "                                     Set 2                    31     227   \n",
       "                                     Set 3                     1      57   \n",
       "\n",
       "                                            Synonymous  \n",
       "ASPA_Grønbæk-Thygesen_2024_abundance Set 1           0  \n",
       "                                     Set 2           0  \n",
       "                                     Set 3           0  \n",
       "ASPA_Grønbæk-Thygesen_2024_toxicity  Set 1           0  \n",
       "                                     Set 2           0  \n",
       "...                                                ...  \n",
       "VHL_Buckley_2024                     Set 2         375  \n",
       "                                     Set 3         375  \n",
       "XRCC2_unpublished                    Set 1          64  \n",
       "                                     Set 2          64  \n",
       "                                     Set 3          64  \n",
       "\n",
       "[258 rows x 4 columns]"
      ]
     },
     "execution_count": 36,
     "metadata": {},
     "output_type": "execute_result"
    }
   ],
   "source": [
    "counts"
   ]
  },
  {
   "cell_type": "code",
   "execution_count": 37,
   "metadata": {},
   "outputs": [],
   "source": [
    "counts.to_csv(\"/data/dzeiberg/pillar_project/dataframe/counts_100_Score_Interval.csv\")"
   ]
  },
  {
   "cell_type": "code",
   "execution_count": 32,
   "metadata": {},
   "outputs": [
    {
     "data": {
      "text/html": [
       "<div>\n",
       "<style scoped>\n",
       "    .dataframe tbody tr th:only-of-type {\n",
       "        vertical-align: middle;\n",
       "    }\n",
       "\n",
       "    .dataframe tbody tr th {\n",
       "        vertical-align: top;\n",
       "    }\n",
       "\n",
       "    .dataframe thead th {\n",
       "        text-align: right;\n",
       "    }\n",
       "</style>\n",
       "<table border=\"1\" class=\"dataframe\">\n",
       "  <thead>\n",
       "    <tr style=\"text-align: right;\">\n",
       "      <th></th>\n",
       "      <th>ID</th>\n",
       "      <th>Dataset</th>\n",
       "      <th>Gene</th>\n",
       "      <th>HGNC_id</th>\n",
       "      <th>Chrom</th>\n",
       "      <th>STRAND</th>\n",
       "      <th>hg19_pos</th>\n",
       "      <th>hg38_start</th>\n",
       "      <th>hg38_end</th>\n",
       "      <th>ref_allele</th>\n",
       "      <th>alt_allele</th>\n",
       "      <th>auth_transcript_id</th>\n",
       "      <th>transcript_pos</th>\n",
       "      <th>transcript_ref</th>\n",
       "      <th>transcript_alt</th>\n",
       "      <th>aa_pos</th>\n",
       "      <th>aa_ref</th>\n",
       "      <th>aa_alt</th>\n",
       "      <th>hgvs_c</th>\n",
       "      <th>hgvs_p</th>\n",
       "      <th>consequence</th>\n",
       "      <th>auth_reported_score</th>\n",
       "      <th>auth_reported_rep_score</th>\n",
       "      <th>auth_reported_func_class</th>\n",
       "      <th>auth_reported_normal_min</th>\n",
       "      <th>auth_reported_normal_max</th>\n",
       "      <th>auth_reported_abnormal_min</th>\n",
       "      <th>auth_reported_abnormal_max</th>\n",
       "      <th>splice_measure</th>\n",
       "      <th>gnomad_MAF</th>\n",
       "      <th>clinvar_sig</th>\n",
       "      <th>clinvar_star</th>\n",
       "      <th>clinvar_date_last_reviewed</th>\n",
       "      <th>nucleotide_or_aa</th>\n",
       "      <th>MaveDB URN (score set)</th>\n",
       "      <th>Ensembl_transript_ID</th>\n",
       "      <th>Ref_seq_transcript_ID</th>\n",
       "      <th>Model_system</th>\n",
       "      <th>Assay_type</th>\n",
       "      <th>Phenotype_measured</th>\n",
       "      <th>Phenotype_detail</th>\n",
       "      <th>IGVF_produced</th>\n",
       "      <th>simplified_consequence</th>\n",
       "      <th>Flag</th>\n",
       "    </tr>\n",
       "  </thead>\n",
       "  <tbody>\n",
       "    <tr>\n",
       "      <th>937291</th>\n",
       "      <td>BARD1_unpublished_var131539</td>\n",
       "      <td>BARD1_unpublished</td>\n",
       "      <td>BARD1</td>\n",
       "      <td>952.0</td>\n",
       "      <td>2</td>\n",
       "      <td>-1.0</td>\n",
       "      <td>NaN</td>\n",
       "      <td>214797064.0</td>\n",
       "      <td>214797064.0</td>\n",
       "      <td>C</td>\n",
       "      <td>T</td>\n",
       "      <td>NaN</td>\n",
       "      <td>212</td>\n",
       "      <td>G</td>\n",
       "      <td>A</td>\n",
       "      <td>71</td>\n",
       "      <td>C</td>\n",
       "      <td>Y</td>\n",
       "      <td>c.212G&gt;A</td>\n",
       "      <td>p.Cys71Tyr</td>\n",
       "      <td>missense_variant</td>\n",
       "      <td>-0.415165</td>\n",
       "      <td>-4.275768491442718;-6.223014157186438;-1.45960...</td>\n",
       "      <td>NaN</td>\n",
       "      <td>NaN</td>\n",
       "      <td>NaN</td>\n",
       "      <td>NaN</td>\n",
       "      <td>NaN</td>\n",
       "      <td>Yes</td>\n",
       "      <td>NaN</td>\n",
       "      <td>Pathogenic/Likely pathogenic</td>\n",
       "      <td>criteria provided, multiple submitters, no con...</td>\n",
       "      <td>Jun 09, 2022</td>\n",
       "      <td>nucleotide</td>\n",
       "      <td>NaN</td>\n",
       "      <td>ENST00000260947.9</td>\n",
       "      <td>NM_000465.4</td>\n",
       "      <td>immortalized human cells</td>\n",
       "      <td>Cell viability</td>\n",
       "      <td>Cell survival</td>\n",
       "      <td>overall function</td>\n",
       "      <td>Yes</td>\n",
       "      <td>Missense</td>\n",
       "      <td>NaN</td>\n",
       "    </tr>\n",
       "  </tbody>\n",
       "</table>\n",
       "</div>"
      ],
      "text/plain": [
       "                                 ID            Dataset   Gene  HGNC_id Chrom  \\\n",
       "937291  BARD1_unpublished_var131539  BARD1_unpublished  BARD1    952.0     2   \n",
       "\n",
       "        STRAND  hg19_pos   hg38_start     hg38_end ref_allele alt_allele  \\\n",
       "937291    -1.0       NaN  214797064.0  214797064.0          C          T   \n",
       "\n",
       "       auth_transcript_id transcript_pos transcript_ref transcript_alt aa_pos  \\\n",
       "937291                NaN            212              G              A     71   \n",
       "\n",
       "       aa_ref aa_alt    hgvs_c      hgvs_p       consequence  \\\n",
       "937291      C      Y  c.212G>A  p.Cys71Tyr  missense_variant   \n",
       "\n",
       "       auth_reported_score                            auth_reported_rep_score  \\\n",
       "937291           -0.415165  -4.275768491442718;-6.223014157186438;-1.45960...   \n",
       "\n",
       "       auth_reported_func_class  auth_reported_normal_min  \\\n",
       "937291                      NaN                       NaN   \n",
       "\n",
       "        auth_reported_normal_max  auth_reported_abnormal_min  \\\n",
       "937291                       NaN                         NaN   \n",
       "\n",
       "        auth_reported_abnormal_max splice_measure  gnomad_MAF  \\\n",
       "937291                         NaN            Yes         NaN   \n",
       "\n",
       "                         clinvar_sig  \\\n",
       "937291  Pathogenic/Likely pathogenic   \n",
       "\n",
       "                                             clinvar_star  \\\n",
       "937291  criteria provided, multiple submitters, no con...   \n",
       "\n",
       "       clinvar_date_last_reviewed nucleotide_or_aa MaveDB URN (score set)  \\\n",
       "937291               Jun 09, 2022       nucleotide                    NaN   \n",
       "\n",
       "       Ensembl_transript_ID Ref_seq_transcript_ID              Model_system  \\\n",
       "937291    ENST00000260947.9           NM_000465.4  immortalized human cells   \n",
       "\n",
       "            Assay_type Phenotype_measured  Phenotype_detail IGVF_produced  \\\n",
       "937291  Cell viability      Cell survival  overall function           Yes   \n",
       "\n",
       "       simplified_consequence Flag  \n",
       "937291               Missense  NaN  "
      ]
     },
     "execution_count": 32,
     "metadata": {},
     "output_type": "execute_result"
    }
   ],
   "source": [
    "pillar_df[(pillar_df.Dataset.str.startswith(\"BARD1_unpublished\")) & \\\n",
    "          (pillar_df.clinvar_sig.isin({\"Pathogenic/Likely pathogenic\", \"Pathogenic\", \"Likely pathogenic\"})) & \\\n",
    "            (pillar_df.simplified_consequence == \"Missense\")]#.simplified_consequence.value_counts()"
   ]
  },
  {
   "cell_type": "code",
   "execution_count": 38,
   "metadata": {},
   "outputs": [
    {
     "data": {
      "application/vnd.jupyter.widget-view+json": {
       "model_id": "c7f10a2b40414ed787e9f3451815112b",
       "version_major": 2,
       "version_minor": 0
      },
      "text/plain": [
       "  0%|          | 0/3 [00:00<?, ?it/s]"
      ]
     },
     "metadata": {},
     "output_type": "display_data"
    },
    {
     "data": {
      "application/vnd.jupyter.widget-view+json": {
       "model_id": "e65eb8fd349f43b6a6adc7d4dd510f70",
       "version_major": 2,
       "version_minor": 0
      },
      "text/plain": [
       "  0%|          | 0/86 [00:00<?, ?it/s]"
      ]
     },
     "metadata": {},
     "output_type": "display_data"
    },
    {
     "data": {
      "application/vnd.jupyter.widget-view+json": {
       "model_id": "1550d4e41eb741e1aae087980434f676",
       "version_major": 2,
       "version_minor": 0
      },
      "text/plain": [
       "  0%|          | 0/86 [00:00<?, ?it/s]"
      ]
     },
     "metadata": {},
     "output_type": "display_data"
    },
    {
     "data": {
      "application/vnd.jupyter.widget-view+json": {
       "model_id": "a113349b0aa5442e8d4f029ba427df66",
       "version_major": 2,
       "version_minor": 0
      },
      "text/plain": [
       "  0%|          | 0/86 [00:00<?, ?it/s]"
      ]
     },
     "metadata": {},
     "output_type": "display_data"
    }
   ],
   "source": [
    "from pathlib import Path\n",
    "from joblib import dump\n",
    "savedir = Path(\"/data/dzeiberg/pillar_project/dataframe/processed_scoresets/\")\n",
    "savedir.mkdir(exist_ok=True)\n",
    "for setID, scoreset_subsets in tqdm(zip([\"Set 1\", \"Set 2\", \"Set 3\"],scoresets),total=len(scoresets)):\n",
    "    for ss in tqdm(scoreset_subsets, total=len(scoreset_subsets), leave=False):\n",
    "        dump(ss, savedir / f\"{setID}_{ss.variants[0].Dataset}.pkl\")"
   ]
  },
  {
   "cell_type": "code",
   "execution_count": null,
   "metadata": {},
   "outputs": [],
   "source": []
  }
 ],
 "metadata": {
  "kernelspec": {
   "display_name": "pillar_project",
   "language": "python",
   "name": "python3"
  },
  "language_info": {
   "codemirror_mode": {
    "name": "ipython",
    "version": 3
   },
   "file_extension": ".py",
   "mimetype": "text/x-python",
   "name": "python",
   "nbconvert_exporter": "python",
   "pygments_lexer": "ipython3",
   "version": "3.13.1"
  }
 },
 "nbformat": 4,
 "nbformat_minor": 2
}

{
 "cells": [
  {
   "cell_type": "code",
   "execution_count": 6,
   "metadata": {},
   "outputs": [],
   "source": [
    "import pandas as pd\n",
    "pd.set_option('display.max_columns', None)\n",
    "import numpy as np\n",
    "import matplotlib.pyplot as plt\n",
    "import seaborn as sns\n",
    "from pathlib import Path\n",
    "import json"
   ]
  },
  {
   "cell_type": "code",
   "execution_count": null,
   "metadata": {},
   "outputs": [
    {
     "name": "stderr",
     "output_type": "stream",
     "text": [
      "/tmp/ipykernel_2699870/84668670.py:1: DtypeWarning: Columns (4,11,13,14,15,21,22,23,34,37,38,39,40,43,44,46,47) have mixed types. Specify dtype option on import or set low_memory=False.\n",
      "  dataframe = pd.read_csv(\"/data/dzeiberg/pillar_project/dataframe/pillar_data_clinvar38_annotated_final_v14_spliceai_032525.csv\")\n"
     ]
    }
   ],
   "source": [
    "dataframe = pd.read_csv(\"files/dataframe/pillar_data_clinvar38_annotated_final_v14_spliceai_032525.csv\")"
   ]
  },
  {
   "cell_type": "code",
   "execution_count": 14,
   "metadata": {},
   "outputs": [],
   "source": [
    "summaries_path = Path(\"files/model_selection_04_03_2025_P3_summaries/\")\n",
    "scoreset_summaries = {\n",
    "    summary_file.stem.replace(\"_summary\",\"\") : json.load(summary_file.open())\n",
    "    for summary_file in summaries_path.glob(\"*.json\")\n",
    "}"
   ]
  },
  {
   "cell_type": "code",
   "execution_count": 18,
   "metadata": {},
   "outputs": [],
   "source": [
    "def assign_evidence(row, scoreset_summary):\n",
    "    if scoreset_summary is None:\n",
    "        return np.nan\n",
    "    score = row.auth_reported_score\n",
    "    if not isinstance(score,float):\n",
    "        return np.nan\n",
    "    pathogenic_thresholds = scoreset_summary['pathogenic_thresholds']\n",
    "    benign_thresholds = scoreset_summary['benign_thresholds']\n",
    "    if np.isnan(pathogenic_thresholds[0]) and np.isnan(benign_thresholds[0]): # If no evidence is met by the assay\n",
    "        return 0\n",
    "    elif pathogenic_thresholds[0] < benign_thresholds[0]: # assay is 'conventional'\n",
    "        return get_evidence_points(score, pathogenic_thresholds, benign_thresholds, conventional=True)\n",
    "    else: # assay is 'reverse'\n",
    "        return get_evidence_points(score, pathogenic_thresholds, benign_thresholds, conventional=False)\n",
    "\n",
    "def get_evidence_points(score, pathogenic_thresholds, benign_thresholds,conventional=True):\n",
    "    bin2score = {0: 1,\n",
    "                 1: 2,\n",
    "                 2: 3,\n",
    "                 3: 4,\n",
    "                 4: 8}\n",
    "    pathogenic_thresholds = np.array(pathogenic_thresholds)\n",
    "    benign_thresholds = np.array(benign_thresholds)\n",
    "    if conventional:\n",
    "        exceeds_pathogenic = np.where(score <= pathogenic_thresholds)[0]\n",
    "        exceeds_benign = np.where(score >= benign_thresholds)[0]\n",
    "    else:\n",
    "        exceeds_pathogenic = np.where(score >= pathogenic_thresholds)[0]\n",
    "        exceeds_benign = np.where(score <= benign_thresholds)[0]\n",
    "    if not len(exceeds_pathogenic) and not len(exceeds_benign):\n",
    "        return 0\n",
    "    if len(exceeds_pathogenic):\n",
    "        return bin2score[exceeds_pathogenic[-1]]\n",
    "    if len(exceeds_benign):\n",
    "        return -1 * bin2score[exceeds_benign[-1]]"
   ]
  },
  {
   "cell_type": "code",
   "execution_count": null,
   "metadata": {},
   "outputs": [
    {
     "name": "stderr",
     "output_type": "stream",
     "text": [
      "100%|██████████| 1053714/1053714 [00:15<00:00, 68297.28it/s]\n"
     ]
    }
   ],
   "source": [
    "from tqdm import tqdm\n",
    "\n",
    "# Enable tqdm for pandas\n",
    "tqdm.pandas()\n",
    "\n",
    "# Apply the function with progress bar\n",
    "dataframe = dataframe.assign(points=dataframe.progress_apply(\n",
    "    lambda row: assign_evidence(row, scoreset_summaries.get(row.Dataset, None)), axis=1) # type: ignore\n",
    ")"
   ]
  },
  {
   "cell_type": "code",
   "execution_count": 22,
   "metadata": {},
   "outputs": [
    {
     "data": {
      "text/plain": [
       "points\n",
       " 8.0     42011\n",
       " 4.0     38671\n",
       " 3.0     37700\n",
       " 2.0     14268\n",
       " 1.0      8227\n",
       " 0.0    213908\n",
       "-1.0    116884\n",
       "-2.0     36553\n",
       "-3.0     82665\n",
       "-4.0     43196\n",
       "-8.0      3471\n",
       "Name: count, dtype: int64"
      ]
     },
     "execution_count": 22,
     "metadata": {},
     "output_type": "execute_result"
    }
   ],
   "source": [
    "dataframe.points.value_counts().sort_index(ascending=False)"
   ]
  },
  {
   "cell_type": "markdown",
   "metadata": {},
   "source": [
    "Check if we reject the fit on any dataset"
   ]
  },
  {
   "cell_type": "code",
   "execution_count": 25,
   "metadata": {},
   "outputs": [
    {
     "data": {
      "text/plain": [
       "[]"
      ]
     },
     "execution_count": 25,
     "metadata": {},
     "output_type": "execute_result"
    }
   ],
   "source": [
    "[k for k,v in scoreset_summaries.items() if v['fit_quality_summary']['gnomAD']['0.5'] > 0.2 or \\\n",
    "                                    v['fit_quality_summary'].get('synonymous',{}).get('0.5',0) > 0.2]"
   ]
  },
  {
   "cell_type": "code",
   "execution_count": 69,
   "metadata": {},
   "outputs": [
    {
     "data": {
      "text/plain": [
       "True"
      ]
     },
     "execution_count": 69,
     "metadata": {},
     "output_type": "execute_result"
    }
   ],
   "source": [
    "pd.isna(dataframe.auth_reported_func_class.values[0])"
   ]
  },
  {
   "cell_type": "code",
   "execution_count": 70,
   "metadata": {},
   "outputs": [],
   "source": [
    "def infer_author_label(row):\n",
    "    if pd.notnull(row.auth_reported_func_class):\n",
    "        return row.auth_reported_func_class\n",
    "    amin,amax,nmin,nmax = row.auth_reported_abnormal_min, row.auth_reported_abnormal_max, \\\n",
    "                            row.auth_reported_normal_min, row.auth_reported_normal_max\n",
    "    score = row.auth_reported_score\n",
    "    if pd.notnull(amax) and pd.notnull(nmin) and amax < nmin:\n",
    "        # Assay is conventional\n",
    "        if score < amax:\n",
    "            return \"FA\"\n",
    "        elif score > nmin:\n",
    "            return \"FN\"\n",
    "        else:\n",
    "            return \"INT\"\n",
    "    elif pd.notnull(amin) and pd.notnull(nmax) and amin > nmax:\n",
    "        # Assay is reverse\n",
    "        if score > amin:\n",
    "            return \"FA\"\n",
    "        elif score < nmax:\n",
    "            return \"FN\"\n",
    "        else:\n",
    "            return \"INT\"\n",
    "    else:\n",
    "        # Cannot infer assay type\n",
    "        return \"UNK\""
   ]
  },
  {
   "cell_type": "code",
   "execution_count": 71,
   "metadata": {},
   "outputs": [
    {
     "name": "stderr",
     "output_type": "stream",
     "text": [
      "100%|██████████| 1053714/1053714 [00:22<00:00, 47589.82it/s]\n"
     ]
    }
   ],
   "source": [
    "dataframe = dataframe.assign(inferred_author_label=dataframe.progress_apply(\n",
    "    lambda row: infer_author_label(row), axis=1) # type: ignore\n",
    ")"
   ]
  },
  {
   "cell_type": "markdown",
   "metadata": {},
   "source": [
    "# Dataset-specific comparison of author annotation vs. point assignment"
   ]
  },
  {
   "cell_type": "code",
   "execution_count": 73,
   "metadata": {},
   "outputs": [
    {
     "data": {
      "image/png": "[encoded data removed]",
      "text/plain": [
       "<Figure size 1000x300 with 2 Axes>"
      ]
     },
     "metadata": {},
     "output_type": "display_data"
    }
   ],
   "source": [
    "scoreset_name = \"BRCA1_Adamovich_2022_HDR\"\n",
    "# Filter the dataframe\n",
    "filtered_df = dataframe[\n",
    "    (dataframe['Dataset'] == scoreset_name) &\n",
    "    (dataframe['simplified_consequence'] == 'Missense')\n",
    "]\n",
    "\n",
    "# Create a pivot table\n",
    "pivot_table = filtered_df.pivot_table(\n",
    "    index='inferred_author_label',\n",
    "    columns='points',\n",
    "    aggfunc='size',\n",
    "    fill_value=0\n",
    ")\n",
    "# Ensure all desired columns are present in the pivot table\n",
    "desired_columns = [-8, -4, -3, -2, -1, 0, 1, 2, 3, 4, 8]\n",
    "for col in desired_columns:\n",
    "    if col not in pivot_table.columns:\n",
    "        pivot_table[col] = 0\n",
    "\n",
    "# Reorder the columns to match the desired order\n",
    "pivot_table = pivot_table.loc[:,desired_columns]\n",
    "\n",
    "# Plot the heatmap\n",
    "plt.figure(figsize=(10, 3))\n",
    "\n",
    "mask = np.zeros_like(pivot_table, dtype=bool)\n",
    "scoreset_pathogenic_thresholds = np.array(scoreset_summaries[scoreset_name]['pathogenic_thresholds'])\n",
    "scoreset_benign_thresholds = np.array(scoreset_summaries[scoreset_name]['benign_thresholds'])\n",
    "for idx,threshold in enumerate(scoreset_benign_thresholds[::-1]):\n",
    "    if np.isnan(threshold):\n",
    "        mask[:,idx] = np.nan\n",
    "for idx,threshold in enumerate(scoreset_pathogenic_thresholds,start=-5):\n",
    "    if np.isnan(threshold):\n",
    "        mask[:,idx] = np.nan\n",
    "pivot_table = pivot_table.iloc[:,::-1]  # Reverse the order of the columns for plotting\n",
    "mask = mask[:,::-1]  # Reverse the order of the mask for plotting\n",
    "cmap = sns.color_palette(\"crest\", as_cmap=True)\n",
    "sns.heatmap(pivot_table, annot=True, cmap=cmap, mask=mask, cbar_kws={'label': 'Count'}, fmt='d',\n",
    "            linewidths=0.5)\n",
    "plt.gca().set_facecolor(\"gray\")\n",
    "plt.title('Heatmap of auth_reported_func_class vs. points')\n",
    "plt.xlabel('Points')\n",
    "plt.ylabel('Auth Reported Func Class')\n",
    "plt.show()"
   ]
  },
  {
   "cell_type": "code",
   "execution_count": null,
   "metadata": {},
   "outputs": [],
   "source": []
  }
 ],
 "metadata": {
  "kernelspec": {
   "display_name": "pillar_project",
   "language": "python",
   "name": "python3"
  },
  "language_info": {
   "codemirror_mode": {
    "name": "ipython",
    "version": 3
   },
   "file_extension": ".py",
   "mimetype": "text/x-python",
   "name": "python",
   "nbconvert_exporter": "python",
   "pygments_lexer": "ipython3",
   "version": "3.13.1"
  }
 },
 "nbformat": 4,
 "nbformat_minor": 2
}

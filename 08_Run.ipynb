{
 "cells": [
  {
   "cell_type": "code",
   "execution_count": 1,
   "metadata": {},
   "outputs": [
    {
     "name": "stderr",
     "output_type": "stream",
     "text": [
      "DEBUG:matplotlib:matplotlib data path: /home/dzeiberg/miniconda3/envs/pillar_project/lib/python3.13/site-packages/matplotlib/mpl-data\n",
      "DEBUG:matplotlib:CONFIGDIR=/home/dzeiberg/.config/matplotlib\n",
      "DEBUG:matplotlib:interactive is False\n",
      "DEBUG:matplotlib:platform is linux\n",
      "DEBUG:matplotlib:CACHEDIR=/home/dzeiberg/.cache/matplotlib\n",
      "DEBUG:matplotlib.font_manager:Using fontManager instance from /home/dzeiberg/.cache/matplotlib/fontlist-v390.json\n"
     ]
    }
   ],
   "source": [
    "from pillar_project.data_utils.dataset import PillarProjectDataframe, Scoreset\n",
    "from pillar_project.fit_utils.fit import Fit\n",
    "import joblib\n",
    "import matplotlib.pyplot as plt\n",
    "import seaborn as sns\n",
    "from model_selection.model_selection_results import get_sample_densities"
   ]
  },
  {
   "cell_type": "code",
   "execution_count": 2,
   "metadata": {},
   "outputs": [],
   "source": [
    "ds = joblib.load(\"/data/dzeiberg/pillar_project/dataframe/final_scoresets/PTEN_Matreyek_2018.pkl\")"
   ]
  },
  {
   "cell_type": "code",
   "execution_count": 3,
   "metadata": {},
   "outputs": [
    {
     "name": "stderr",
     "output_type": "stream",
     "text": [
      "  0%|          | 0/1 [00:00<?, ?it/s]"
     ]
    },
    {
     "name": "stdout",
     "output_type": "stream",
     "text": [
      "sample counts: [142   5 137 146]\n",
      "sample counts: [134   3 128 146]\n",
      "sample counts: [134   3 128 146]\n",
      "[134   3 128 146]\n",
      "Running 10 fits for each of 1 components sequentially\n",
      "Initializing model parameters...\n",
      "Initialization 0...\n",
      "Model parameters initialized.\n",
      "Skews: [-0.00478676 -0.00368288 -0.00486899]\n",
      "Locs: [0.27964114 0.86931385 1.10760328]\n",
      "Scales: [0.11253806 0.11253299 0.11252861]\n"
     ]
    },
    {
     "name": "stderr",
     "output_type": "stream",
     "text": [
      "Log-likelihood: 591.3452425:   0%|          | 49/10000 [00:03<11:23, 14.57it/s]\n"
     ]
    },
    {
     "name": "stdout",
     "output_type": "stream",
     "text": [
      "Have not seen improvement in log likelihood for 25 iterations.\n",
      "Initializing model parameters...\n",
      "Initialization 0...\n",
      "Model parameters initialized.\n",
      "Skews: [-0.57575065 -0.50087469 -0.516328  ]\n",
      "Locs: [0.23564322 0.62072455 0.98863128]\n",
      "Scales: [0.1295709  0.12517542 0.12488112]\n"
     ]
    },
    {
     "name": "stderr",
     "output_type": "stream",
     "text": [
      "Log-likelihood: 581.6425655:   0%|          | 38/10000 [00:02<11:49, 14.04it/s]\n"
     ]
    },
    {
     "name": "stdout",
     "output_type": "stream",
     "text": [
      "Have not seen improvement in log likelihood for 25 iterations.\n",
      "Initializing model parameters...\n",
      "Initialization 0...\n",
      "Model parameters initialized.\n",
      "Skews: [-0.62506295 -0.56250331 -0.59109969]\n",
      "Locs: [0.2122372  0.88472265 1.13309213]\n",
      "Scales: [0.11880459 0.11460179 0.11459642]\n"
     ]
    },
    {
     "name": "stderr",
     "output_type": "stream",
     "text": [
      "Log-likelihood: 589.3683981:   0%|          | 37/10000 [00:02<11:49, 14.05it/s]\n"
     ]
    },
    {
     "name": "stdout",
     "output_type": "stream",
     "text": [
      "Have not seen improvement in log likelihood for 25 iterations.\n",
      "Initializing model parameters...\n",
      "Initialization 0...\n",
      "Model parameters initialized.\n",
      "Skews: [-0.59481399 -0.5648972  -0.59549447]\n",
      "Locs: [0.31947652 0.8466408  1.12640746]\n",
      "Scales: [0.12614131 0.12358757 0.12357788]\n"
     ]
    },
    {
     "name": "stderr",
     "output_type": "stream",
     "text": [
      "Log-likelihood: 590.4406182:   0%|          | 37/10000 [00:02<12:25, 13.37it/s]\n"
     ]
    },
    {
     "name": "stdout",
     "output_type": "stream",
     "text": [
      "Have not seen improvement in log likelihood for 25 iterations.\n",
      "Initializing model parameters...\n",
      "Initialization 0...\n",
      "Model parameters initialized.\n",
      "Skews: [-0.00294227 -0.00250898  0.00114475]\n",
      "Locs: [0.15894994 0.78036664 1.08672818]\n",
      "Scales: [0.11380295 0.11379796 0.11379287]\n"
     ]
    },
    {
     "name": "stderr",
     "output_type": "stream",
     "text": [
      "Log-likelihood: 592.2466415:   0%|          | 50/10000 [00:03<11:19, 14.64it/s]\n"
     ]
    },
    {
     "name": "stdout",
     "output_type": "stream",
     "text": [
      "Have not seen improvement in log likelihood for 25 iterations.\n",
      "Initializing model parameters...\n",
      "Initialization 0...\n",
      "Model parameters initialized.\n",
      "Skews: [-0.56755296 -0.54863531 -0.577411  ]\n",
      "Locs: [0.35033256 0.84564042 1.12081494]\n",
      "Scales: [0.12086917 0.11907854 0.11907017]\n"
     ]
    },
    {
     "name": "stderr",
     "output_type": "stream",
     "text": [
      "Log-likelihood: 590.5417148:   0%|          | 39/10000 [00:02<12:22, 13.41it/s]\n"
     ]
    },
    {
     "name": "stdout",
     "output_type": "stream",
     "text": [
      "Have not seen improvement in log likelihood for 25 iterations.\n",
      "Initializing model parameters...\n",
      "Initialization 0...\n",
      "Model parameters initialized.\n",
      "Skews: [-0.61000416 -0.55149818 -0.57414914]\n",
      "Locs: [0.22126513 0.88340704 1.09963813]\n",
      "Scales: [0.11827709 0.11435065 0.11434515]\n"
     ]
    },
    {
     "name": "stderr",
     "output_type": "stream",
     "text": [
      "Log-likelihood: 590.7747447:   0%|          | 37/10000 [00:02<12:02, 13.79it/s]\n"
     ]
    },
    {
     "name": "stdout",
     "output_type": "stream",
     "text": [
      "Have not seen improvement in log likelihood for 25 iterations.\n",
      "Initializing model parameters...\n",
      "Initialization 0...\n",
      "Model parameters initialized.\n",
      "Skews: [-0.61185713 -0.57168055 -0.60566095]\n",
      "Locs: [0.2906677  0.85886238 1.14676316]\n",
      "Scales: [0.12837228 0.12510996 0.12510061]\n"
     ]
    },
    {
     "name": "stderr",
     "output_type": "stream",
     "text": [
      "Log-likelihood: 590.0366242:   0%|          | 40/10000 [00:02<12:10, 13.64it/s]\n"
     ]
    },
    {
     "name": "stdout",
     "output_type": "stream",
     "text": [
      "Have not seen improvement in log likelihood for 25 iterations.\n",
      "Initializing model parameters...\n",
      "Initialization 0...\n",
      "Model parameters initialized.\n",
      "Skews: [0.00150277 0.00073707 0.00218689]\n",
      "Locs: [0.22216233 0.81909215 1.08993045]\n",
      "Scales: [0.11763666 0.11763117 0.11762591]\n"
     ]
    },
    {
     "name": "stderr",
     "output_type": "stream",
     "text": [
      "Log-likelihood: 591.3259440:   1%|          | 74/10000 [00:04<11:01, 15.00it/s]\n"
     ]
    },
    {
     "name": "stdout",
     "output_type": "stream",
     "text": [
      "Have not seen improvement in log likelihood for 25 iterations.\n",
      "Initializing model parameters...\n",
      "Initialization 0...\n",
      "Model parameters initialized.\n",
      "Skews: [ 0.00267694  0.00270152 -0.00171685]\n",
      "Locs: [0.2358602  0.86191837 1.08651433]\n",
      "Scales: [0.11578526 0.11578009 0.11577476]\n"
     ]
    },
    {
     "name": "stderr",
     "output_type": "stream",
     "text": [
      "Log-likelihood: 590.7653814:   1%|          | 109/10000 [00:07<11:03, 14.90it/s]\n",
      "100%|██████████| 1/1 [00:39<00:00, 39.94s/it]"
     ]
    },
    {
     "name": "stdout",
     "output_type": "stream",
     "text": [
      "Have not seen improvement in log likelihood for 25 iterations.\n",
      "Successfully fit 10 models\n",
      "Best fit: {'skewness': array([-0.69897112, -1.13154548, -0.76008152]), 'locs': array([0.27422231, 0.88022699, 1.09380462]), 'scales': array([0.171652  , 0.23193575, 0.14170781]), 'sample_weights': array([[6.71938900e-001, 1.66484942e-001, 1.61576158e-001],\n",
      "       [4.11872231e-183, 6.81616031e-008, 9.99999932e-001],\n",
      "       [6.77985790e-002, 4.00032820e-001, 5.32168601e-001],\n",
      "       [1.63805247e-002, 1.00235929e-001, 8.83383546e-001]])}\n"
     ]
    },
    {
     "name": "stderr",
     "output_type": "stream",
     "text": [
      "\n"
     ]
    }
   ],
   "source": [
    "from tqdm import trange\n",
    "fits = []\n",
    "for fitNum in trange(1):\n",
    "    fit = Fit(ds)\n",
    "    fit.run(component_range=[3,],num_fits=10,core_limit=1)\n",
    "    fits.append(fit)"
   ]
  },
  {
   "cell_type": "code",
   "execution_count": null,
   "metadata": {},
   "outputs": [],
   "source": []
  },
  {
   "cell_type": "code",
   "execution_count": null,
   "metadata": {},
   "outputs": [],
   "source": [
    "score_range, densities = get_sample_densities(ds,fits)"
   ]
  },
  {
   "cell_type": "code",
   "execution_count": null,
   "metadata": {},
   "outputs": [],
   "source": [
    "densities.shape"
   ]
  },
  {
   "cell_type": "code",
   "execution_count": null,
   "metadata": {},
   "outputs": [],
   "source": [
    "fig,ax = plt.subplots(4,1,figsize=(10,7))\n",
    "for i,(sample_scores,sample_name) in enumerate(ds.samples):\n",
    "    sns.histplot(sample_scores,ax=ax[i],stat=\"density\")\n",
    "    ax[i].plot(score_range,densities[:,i].mean(0),label=sample_name,color='orange')\n",
    "    ax[i].legend()\n",
    "plt.tight_layout()\n"
   ]
  },
  {
   "cell_type": "code",
   "execution_count": null,
   "metadata": {},
   "outputs": [],
   "source": []
  }
 ],
 "metadata": {
  "kernelspec": {
   "display_name": "pillar_project",
   "language": "python",
   "name": "python3"
  },
  "language_info": {
   "codemirror_mode": {
    "name": "ipython",
    "version": 3
   },
   "file_extension": ".py",
   "mimetype": "text/x-python",
   "name": "python",
   "nbconvert_exporter": "python",
   "pygments_lexer": "ipython3",
   "version": "3.13.1"
  }
 },
 "nbformat": 4,
 "nbformat_minor": 2
}
